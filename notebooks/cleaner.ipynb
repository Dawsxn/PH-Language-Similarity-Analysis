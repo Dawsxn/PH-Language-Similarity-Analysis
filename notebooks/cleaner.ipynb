{
 "cells": [
  {
   "cell_type": "markdown",
   "id": "e90b90ad",
   "metadata": {},
   "source": [
    "### Imports"
   ]
  },
  {
   "cell_type": "code",
   "execution_count": 4,
   "id": "025f879a",
   "metadata": {},
   "outputs": [],
   "source": [
    "import re\n",
    "from pathlib import Path\n",
    "from tqdm import tqdm"
   ]
  },
  {
   "cell_type": "markdown",
   "id": "7d08c88c",
   "metadata": {},
   "source": [
    "### Directories"
   ]
  },
  {
   "cell_type": "code",
   "execution_count": 5,
   "id": "03b33d95",
   "metadata": {},
   "outputs": [],
   "source": [
    "raw_dir = Path(\"../data/raw\")\n",
    "cleaned_dir = Path(\"../data/cleaned\")\n",
    "cleaned_dir.mkdir(parents=True, exist_ok=True)"
   ]
  },
  {
   "cell_type": "markdown",
   "id": "b728bfab",
   "metadata": {},
   "source": [
    "### Text Cleaning"
   ]
  },
  {
   "cell_type": "code",
   "execution_count": 6,
   "id": "d32b76ad",
   "metadata": {},
   "outputs": [
    {
     "name": "stderr",
     "output_type": "stream",
     "text": [
      "Cleaning Text Files:  19%|█▉        | 3/16 [00:00<00:01, 11.71it/s]"
     ]
    },
    {
     "name": "stdout",
     "output_type": "stream",
     "text": [
      "adasen       →   93,399 cleaned words\n",
      "bikolano     →   62,269 cleaned words\n",
      "cebuano      →   67,364 cleaned words\n",
      "chavacano    →   94,664 cleaned words\n"
     ]
    },
    {
     "name": "stderr",
     "output_type": "stream",
     "text": [
      "Cleaning Text Files:  44%|████▍     | 7/16 [00:00<00:00, 13.69it/s]"
     ]
    },
    {
     "name": "stdout",
     "output_type": "stream",
     "text": [
      "english      →   64,130 cleaned words\n",
      "ilokano      →   57,114 cleaned words\n",
      "ilonggo      →   73,302 cleaned words\n",
      "kinaray-a    →   76,518 cleaned words\n"
     ]
    },
    {
     "name": "stderr",
     "output_type": "stream",
     "text": [
      "Cleaning Text Files:  69%|██████▉   | 11/16 [00:00<00:00, 15.20it/s]"
     ]
    },
    {
     "name": "stdout",
     "output_type": "stream",
     "text": [
      "masbatenyo   →   70,459 cleaned words\n",
      "paranan      →   79,391 cleaned words\n",
      "romblomanon  →   74,130 cleaned words\n",
      "spanish      →   63,962 cleaned words\n"
     ]
    },
    {
     "name": "stderr",
     "output_type": "stream",
     "text": [
      "Cleaning Text Files:  94%|█████████▍| 15/16 [00:01<00:00, 15.17it/s]"
     ]
    },
    {
     "name": "stdout",
     "output_type": "stream",
     "text": [
      "tagalog      →   66,053 cleaned words\n",
      "tausug       →   93,645 cleaned words\n",
      "waray        →   70,613 cleaned words\n",
      "yami         →   83,153 cleaned words\n"
     ]
    },
    {
     "name": "stderr",
     "output_type": "stream",
     "text": [
      "Cleaning Text Files: 100%|██████████| 16/16 [00:01<00:00, 14.28it/s]"
     ]
    },
    {
     "name": "stdout",
     "output_type": "stream",
     "text": [
      "\n",
      "Cleaning complete. Files saved in '../data/cleaned/'.\n"
     ]
    },
    {
     "name": "stderr",
     "output_type": "stream",
     "text": [
      "\n"
     ]
    }
   ],
   "source": [
    "# iterate through each raw text file in ../data/raw\n",
    "for file_path in tqdm(sorted(raw_dir.glob(\"*_raw.txt\")), desc=\"Cleaning Text Files\"):\n",
    "    lang = file_path.stem.replace(\"_raw\", \"\")\n",
    "    cleaned_path = cleaned_dir / f\"{lang}_cleaned.txt\"\n",
    "\n",
    "    # read raw text\n",
    "    with open(file_path, \"r\", encoding=\"utf-8\") as f:\n",
    "        text = f.read()\n",
    "\n",
    "    # step 1: convert all to lowercase\n",
    "    text = text.lower()\n",
    "\n",
    "    # step 2: remove numbers\n",
    "    # note: we can do this naively and not worry about whether this removes numbers other \n",
    "    # than verse numbers, such as numbers incorporated in the verses itself because\n",
    "    # the main goal is to clean the text for language similarity analysis wherein\n",
    "    # we will use ngrams and such, so we don't want numbers at all\n",
    "    text = re.sub(r\"\\d+\", \" \", text)\n",
    "\n",
    "    # step 3: remove punctuation and special characters\n",
    "    text = re.sub(r\"[^a-z\\s]\", \" \", text)\n",
    "\n",
    "    # step 4: normalize whitespace\n",
    "    # note: in the processing of the raw text, we already do this but just to be sure\n",
    "    # we run it again here\n",
    "    text = re.sub(r\"\\s+\", \" \", text).strip()\n",
    "\n",
    "    # write the cleaned file to ../data/cleaned\n",
    "    with open(cleaned_path, \"w\", encoding=\"utf-8\") as f:\n",
    "        f.write(text)\n",
    "\n",
    "    # summary\n",
    "    word_count = len(text.split())\n",
    "    print(f\"{lang:<12} → {word_count:>8,} cleaned words\")\n",
    "\n",
    "print(\"\\nCleaning complete. Files saved in '../data/cleaned/'.\")"
   ]
  }
 ],
 "metadata": {
  "kernelspec": {
   "display_name": "Python 3",
   "language": "python",
   "name": "python3"
  },
  "language_info": {
   "codemirror_mode": {
    "name": "ipython",
    "version": 3
   },
   "file_extension": ".py",
   "mimetype": "text/x-python",
   "name": "python",
   "nbconvert_exporter": "python",
   "pygments_lexer": "ipython3",
   "version": "3.11.0"
  }
 },
 "nbformat": 4,
 "nbformat_minor": 5
}

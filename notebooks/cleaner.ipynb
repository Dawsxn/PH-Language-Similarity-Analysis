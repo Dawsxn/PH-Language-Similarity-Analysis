{
 "cells": [
  {
   "cell_type": "markdown",
   "id": "e90b90ad",
   "metadata": {},
   "source": [
    "### Imports"
   ]
  },
  {
   "cell_type": "code",
   "execution_count": 1,
   "id": "025f879a",
   "metadata": {},
   "outputs": [],
   "source": [
    "import re\n",
    "from pathlib import Path\n",
    "from tqdm import tqdm"
   ]
  },
  {
   "cell_type": "markdown",
   "id": "7d08c88c",
   "metadata": {},
   "source": [
    "### Directories"
   ]
  },
  {
   "cell_type": "code",
   "execution_count": null,
   "id": "03b33d95",
   "metadata": {},
   "outputs": [],
   "source": [
    "raw_dir = Path(\"../data/raw\")\n",
    "cleaned_dir = Path(\"../data/cleaned\")\n",
    "cleaned_dir.mkdir(parents=True, exist_ok=True)"
   ]
  },
  {
   "cell_type": "markdown",
   "id": "b728bfab",
   "metadata": {},
   "source": [
    "### Text Cleaning"
   ]
  },
  {
   "cell_type": "code",
   "execution_count": null,
   "id": "d32b76ad",
   "metadata": {},
   "outputs": [
    {
     "ename": "NameError",
     "evalue": "name 'raw_dir' is not defined",
     "output_type": "error",
     "traceback": [
      "\u001b[31m---------------------------------------------------------------------------\u001b[39m",
      "\u001b[31mNameError\u001b[39m                                 Traceback (most recent call last)",
      "\u001b[36mCell\u001b[39m\u001b[36m \u001b[39m\u001b[32mIn[3]\u001b[39m\u001b[32m, line 2\u001b[39m\n\u001b[32m      1\u001b[39m \u001b[38;5;66;03m# iterate through each raw text file in ../data/raw\u001b[39;00m\n\u001b[32m----> \u001b[39m\u001b[32m2\u001b[39m \u001b[38;5;28;01mfor\u001b[39;00m file_path \u001b[38;5;129;01min\u001b[39;00m tqdm(\u001b[38;5;28msorted\u001b[39m(\u001b[43mraw_dir\u001b[49m.glob(\u001b[33m\"\u001b[39m\u001b[33m*_raw.txt\u001b[39m\u001b[33m\"\u001b[39m)), desc=\u001b[33m\"\u001b[39m\u001b[33mCleaning Text Files\u001b[39m\u001b[33m\"\u001b[39m):\n\u001b[32m      3\u001b[39m     lang = file_path.stem.replace(\u001b[33m\"\u001b[39m\u001b[33m_raw\u001b[39m\u001b[33m\"\u001b[39m, \u001b[33m\"\u001b[39m\u001b[33m\"\u001b[39m)\n\u001b[32m      4\u001b[39m     cleaned_path = cleaned_dir / \u001b[33mf\u001b[39m\u001b[33m\"\u001b[39m\u001b[38;5;132;01m{\u001b[39;00mlang\u001b[38;5;132;01m}\u001b[39;00m\u001b[33m_cleaned.txt\u001b[39m\u001b[33m\"\u001b[39m\n",
      "\u001b[31mNameError\u001b[39m: name 'raw_dir' is not defined"
     ]
    }
   ],
   "source": [
    "# iterate through each raw text file in ../data/raw\n",
    "for file_path in tqdm(sorted(raw_dir.glob(\"*_raw.txt\")), desc=\"Cleaning Text Files\"):\n",
    "    lang = file_path.stem.replace(\"_raw\", \"\")\n",
    "    cleaned_path = cleaned_dir / f\"{lang}_cleaned.txt\"\n",
    "\n",
    "    # read raw text\n",
    "    with open(file_path, \"r\", encoding=\"utf-8\") as f:\n",
    "        text = f.read()\n",
    "\n",
    "    # step 1: convert all to lowercase\n",
    "    text = text.lower()\n",
    "\n",
    "    # step 2: remove numbers\n",
    "    # note: we can do this naively and not worry about whether this removes numbers other \n",
    "    # than verse numbers, such as numbers incorporated in the verses itself because\n",
    "    # the main goal is to clean the text for language similarity analysis wherein\n",
    "    # we will use ngrams and such, so we don't want numbers at all\n",
    "    text = re.sub(r\"\\d+\", \" \", text)\n",
    "\n",
    "    # step 3: remove punctuation and special characters\n",
    "    text = re.sub(r\"[^a-z\\s]\", \" \", text)\n",
    "\n",
    "    # step 4: normalize whitespace\n",
    "    # note: in the processing of the raw text, we already do this but just to be sure\n",
    "    # we run it again here\n",
    "    text = re.sub(r\"\\s+\", \" \", text).strip()\n",
    "\n",
    "    # write the cleaned file to ../data/cleaned\n",
    "    with open(cleaned_path, \"w\", encoding=\"utf-8\") as f:\n",
    "        f.write(text)\n",
    "\n",
    "    # summary\n",
    "    word_count = len(text.split())\n",
    "    print(f\"{lang:<12} → {word_count:>8,} cleaned words\")\n",
    "\n",
    "print(\"\\nCleaning complete. Files saved in '../data/cleaned/'.\")"
   ]
  },
  {
   "cell_type": "code",
   "execution_count": null,
   "id": "41de96be",
   "metadata": {},
   "outputs": [],
   "source": []
  }
 ],
 "metadata": {
  "kernelspec": {
   "display_name": "Python 3",
   "language": "python",
   "name": "python3"
  },
  "language_info": {
   "codemirror_mode": {
    "name": "ipython",
    "version": 3
   },
   "file_extension": ".py",
   "mimetype": "text/x-python",
   "name": "python",
   "nbconvert_exporter": "python",
   "pygments_lexer": "ipython3",
   "version": "3.11.0"
  }
 },
 "nbformat": 4,
 "nbformat_minor": 5
}

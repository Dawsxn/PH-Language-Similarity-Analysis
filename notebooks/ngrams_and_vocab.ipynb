{
 "cells": [
  {
   "cell_type": "markdown",
   "id": "8cf06726",
   "metadata": {},
   "source": [
    "### Imports"
   ]
  },
  {
   "cell_type": "code",
   "execution_count": null,
   "id": "18fe5aab",
   "metadata": {},
   "outputs": [],
   "source": [
    "import json\n",
    "from pathlib import Path\n",
    "from collections import Counter\n",
    "from tqdm import tqdm\n",
    "import pandas as pd  "
   ]
  },
  {
   "cell_type": "markdown",
   "id": "9860338d",
   "metadata": {},
   "source": [
    "### Directories / Setup"
   ]
  },
  {
   "cell_type": "code",
   "execution_count": 5,
   "id": "7fdbe51b",
   "metadata": {},
   "outputs": [],
   "source": [
    "cleaned_path = Path(\"../data/cleaned\")\n",
    "ngrams_path = Path(\"../data/ngrams\")\n",
    "vocab_path = Path(\"../data/vocab\")\n",
    "ngrams_path.mkdir(parents=True, exist_ok=True)\n",
    "vocab_path.mkdir(parents=True, exist_ok=True)\n",
    "\n",
    "n = 3 # n-gram size"
   ]
  },
  {
   "cell_type": "markdown",
   "id": "2f2b59d6",
   "metadata": {},
   "source": [
    "### Generate N-Grams and Master Vocab"
   ]
  },
  {
   "cell_type": "code",
   "execution_count": 9,
   "id": "fdb289eb",
   "metadata": {},
   "outputs": [],
   "source": [
    "def generate_char_ngrams(text: str, n: int = 3):\n",
    "    \"\"\"\n",
    "    Generate overlapping character n-grams from text.\n",
    "    Example: \"hello\" (n=3) -> ['hel', 'ell', 'llo']\n",
    "    \"\"\"\n",
    "    # replace spaces with underscore to preserve word boundaries\n",
    "    text = text.replace(\" \", \"_\")\n",
    "    ngrams = [text[i:i+n] for i in range(len(text) - n + 1)]\n",
    "    return ngrams"
   ]
  },
  {
   "cell_type": "code",
   "execution_count": 11,
   "id": "b73ef035",
   "metadata": {},
   "outputs": [
    {
     "name": "stderr",
     "output_type": "stream",
     "text": [
      "Generating character ngrams: 100%|██████████| 16/16 [00:01<00:00,  8.92it/s]\n",
      "\n"
     ]
    },
    {
     "name": "stdout",
     "output_type": "stream",
     "text": [
      "\n",
      "Finished generating n-grams for 16 languages.\n",
      "Master vocabulary size: 6,378 unique 3-grams.\n",
      "Saved master vocabulary and frequencies to CSV.\n"
     ]
    }
   ],
   "source": [
    "all_vocab = set()  # use a set to store master vocab so no duplicates\n",
    "language_files = list(cleaned_path.glob(\"*.txt\"))\n",
    "language_ngram_freqs = {}  # Dictionary to store n-gram frequencies per language\n",
    "\n",
    "# iterate through cleaned text files\n",
    "for file in tqdm(language_files, desc=\"Generating character ngrams\"):\n",
    "    lang = file.stem.replace(\"_cleaned\", \"\")\n",
    "\n",
    "    # read clean text and store as in variable text\n",
    "    with open(file, \"r\", encoding=\"utf-8\") as f:\n",
    "        text = f.read()\n",
    "    \n",
    "    # generate ngrams and their frequencies using helper function\n",
    "    ngrams = generate_char_ngrams(text, n)\n",
    "    freq = Counter(ngrams) # ngram -> frequency (key value pair)\n",
    "    \n",
    "    # save ngram and their frequencies as json per language to ../data/ngrams/\n",
    "    out_path = ngrams_path / f\"{lang}_char{n}_ngrams.json\"\n",
    "    with open(out_path, \"w\", encoding=\"utf-8\") as f:\n",
    "        json.dump(freq, f, ensure_ascii=False, indent=2)\n",
    "    \n",
    "    # add ngrams to master vocab set (deduplicated)\n",
    "    all_vocab.update(freq.keys())\n",
    "    \n",
    "    # store frequency dictionary for the language (\"english\": {ngram: freq, ...})\n",
    "    language_ngram_freqs[lang] = freq\n",
    "\n",
    "# create df with master vocab as rows and languages as columns\n",
    "df = pd.DataFrame(index=list(all_vocab))  # initialize master vocab as index\n",
    "\n",
    "# populate the df with frequencies for each language\n",
    "for lang, freq in language_ngram_freqs.items():\n",
    "    df[lang] = df.index.map(freq).fillna(0)  # map frequencies to the master vocab, fill missing with 0\n",
    "\n",
    "df.to_csv(vocab_path / f\"master_vocab_char{n}_ngrams.csv\", encoding=\"utf-8\")\n",
    "\n",
    "vocab_file = vocab_path / f\"master_char{n}_vocab.txt\"\n",
    "with open(vocab_file, \"w\", encoding=\"utf-8\") as f:\n",
    "    for token in sorted(all_vocab):\n",
    "        f.write(token + \"\\n\")\n",
    "\n",
    "print(f\"\\nFinished generating n-grams for {len(language_files)} languages.\")\n",
    "print(f\"Master vocabulary size: {len(all_vocab):,} unique {n}-grams.\")\n",
    "print(f\"Saved master vocabulary and frequencies to CSV.\")"
   ]
  }
 ],
 "metadata": {
  "kernelspec": {
   "display_name": "Python 3",
   "language": "python",
   "name": "python3"
  },
  "language_info": {
   "codemirror_mode": {
    "name": "ipython",
    "version": 3
   },
   "file_extension": ".py",
   "mimetype": "text/x-python",
   "name": "python",
   "nbconvert_exporter": "python",
   "pygments_lexer": "ipython3",
   "version": "3.11.0"
  }
 },
 "nbformat": 4,
 "nbformat_minor": 5
}

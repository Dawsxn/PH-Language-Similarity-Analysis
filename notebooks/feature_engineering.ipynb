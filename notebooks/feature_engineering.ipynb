{
 "cells": [
  {
   "cell_type": "markdown",
   "id": "cd766baf",
   "metadata": {},
   "source": [
    "### Imports"
   ]
  },
  {
   "cell_type": "code",
   "execution_count": 1,
   "id": "935b391b",
   "metadata": {},
   "outputs": [],
   "source": [
    "import pandas as pd\n",
    "import numpy as np\n",
    "import math"
   ]
  },
  {
   "cell_type": "markdown",
   "id": "76d93ac0",
   "metadata": {},
   "source": [
    "### Load N-Gram Master Vocab CSV"
   ]
  },
  {
   "cell_type": "markdown",
   "id": "d5912bad",
   "metadata": {},
   "source": [
    "###### This CSV / Data currently contains the master vocabulary of N-Grams (unique set) and their frequencies in each language. "
   ]
  },
  {
   "cell_type": "code",
   "execution_count": 10,
   "id": "3974e649",
   "metadata": {},
   "outputs": [],
   "source": [
    "df = pd.read_csv(\"../data/vocab/master_vocab_char3_ngrams.csv\")\n",
    "df = df.rename(columns={\"Unnamed: 0\": \"ngram\"})\n",
    "ngrams = df[\"ngram\"]"
   ]
  },
  {
   "cell_type": "markdown",
   "id": "3a821b2a",
   "metadata": {},
   "source": [
    "### Feature Engineering"
   ]
  },
  {
   "cell_type": "markdown",
   "id": "3446ab7a",
   "metadata": {},
   "source": [
    "###### Right now, the current feature only represents the **raw frequencies** of how many times each n-gram appears in a given language. This can **skew language similarity**, since common n-grams that appear across all languages will dominate the comparison. For example, languages might be considered similar if N-Grams that contain common vowels such as \"_ea\" or _ou\" have high raw frequencies for both, even when in reality they are not similar languages.  To address this, we will apply **TF-IDF**: a weighting method that adjusts n-gram importance based on how **unique** and **informative** each one is to a specific language.\n"
   ]
  },
  {
   "cell_type": "markdown",
   "id": "d517554c",
   "metadata": {},
   "source": [
    "#### TF (Term Frequency)"
   ]
  },
  {
   "cell_type": "markdown",
   "id": "5c7be00d",
   "metadata": {},
   "source": [
    "###### This is the amount of times the N-Gram appears in the document per language. Since each of our documents vary in size, we will have to normalize to account for this by dividing by the total number of terms per document."
   ]
  },
  {
   "cell_type": "code",
   "execution_count": 11,
   "id": "a2e7f309",
   "metadata": {},
   "outputs": [],
   "source": [
    "df_numeric = df.drop(columns=[\"ngram\"])\n",
    "tf_numeric = df_numeric.div(df_numeric.sum(axis=0), axis=1)\n",
    "tf = pd.concat([ngrams, tf_numeric], axis=1)"
   ]
  },
  {
   "cell_type": "code",
   "execution_count": 12,
   "id": "25ef4129",
   "metadata": {},
   "outputs": [
    {
     "data": {
      "text/html": [
       "<div>\n",
       "<style scoped>\n",
       "    .dataframe tbody tr th:only-of-type {\n",
       "        vertical-align: middle;\n",
       "    }\n",
       "\n",
       "    .dataframe tbody tr th {\n",
       "        vertical-align: top;\n",
       "    }\n",
       "\n",
       "    .dataframe thead th {\n",
       "        text-align: right;\n",
       "    }\n",
       "</style>\n",
       "<table border=\"1\" class=\"dataframe\">\n",
       "  <thead>\n",
       "    <tr style=\"text-align: right;\">\n",
       "      <th></th>\n",
       "      <th>ngram</th>\n",
       "      <th>adasen</th>\n",
       "      <th>bikolano</th>\n",
       "      <th>cebuano</th>\n",
       "      <th>chavacano</th>\n",
       "      <th>english</th>\n",
       "      <th>ilokano</th>\n",
       "      <th>ilonggo</th>\n",
       "      <th>kinaray-a</th>\n",
       "      <th>masbatenyo</th>\n",
       "      <th>paranan</th>\n",
       "      <th>romblomanon</th>\n",
       "      <th>spanish</th>\n",
       "      <th>tagalog</th>\n",
       "      <th>tausug</th>\n",
       "      <th>waray</th>\n",
       "      <th>yami</th>\n",
       "    </tr>\n",
       "  </thead>\n",
       "  <tbody>\n",
       "    <tr>\n",
       "      <th>0</th>\n",
       "      <td>gol</td>\n",
       "      <td>0.000002</td>\n",
       "      <td>0.000039</td>\n",
       "      <td>0.000042</td>\n",
       "      <td>0.000009</td>\n",
       "      <td>0.000022</td>\n",
       "      <td>0.000023</td>\n",
       "      <td>0.000030</td>\n",
       "      <td>0.000019</td>\n",
       "      <td>0.000021</td>\n",
       "      <td>0.000005</td>\n",
       "      <td>0.000005</td>\n",
       "      <td>0.000055</td>\n",
       "      <td>0.000093</td>\n",
       "      <td>0.000000</td>\n",
       "      <td>0.000089</td>\n",
       "      <td>0.000032</td>\n",
       "    </tr>\n",
       "    <tr>\n",
       "      <th>1</th>\n",
       "      <td>tig</td>\n",
       "      <td>0.000022</td>\n",
       "      <td>0.000041</td>\n",
       "      <td>0.000326</td>\n",
       "      <td>0.000240</td>\n",
       "      <td>0.000000</td>\n",
       "      <td>0.000014</td>\n",
       "      <td>0.000175</td>\n",
       "      <td>0.000047</td>\n",
       "      <td>0.000212</td>\n",
       "      <td>0.000054</td>\n",
       "      <td>0.000123</td>\n",
       "      <td>0.000117</td>\n",
       "      <td>0.000040</td>\n",
       "      <td>0.000037</td>\n",
       "      <td>0.000267</td>\n",
       "      <td>0.000000</td>\n",
       "    </tr>\n",
       "    <tr>\n",
       "      <th>2</th>\n",
       "      <td>sej</td>\n",
       "      <td>0.000000</td>\n",
       "      <td>0.000000</td>\n",
       "      <td>0.000000</td>\n",
       "      <td>0.000021</td>\n",
       "      <td>0.000000</td>\n",
       "      <td>0.000000</td>\n",
       "      <td>0.000000</td>\n",
       "      <td>0.000000</td>\n",
       "      <td>0.000000</td>\n",
       "      <td>0.000000</td>\n",
       "      <td>0.000000</td>\n",
       "      <td>0.000007</td>\n",
       "      <td>0.000000</td>\n",
       "      <td>0.000000</td>\n",
       "      <td>0.000000</td>\n",
       "      <td>0.000000</td>\n",
       "    </tr>\n",
       "    <tr>\n",
       "      <th>3</th>\n",
       "      <td>ubd</td>\n",
       "      <td>0.000000</td>\n",
       "      <td>0.000000</td>\n",
       "      <td>0.000000</td>\n",
       "      <td>0.000000</td>\n",
       "      <td>0.000000</td>\n",
       "      <td>0.000000</td>\n",
       "      <td>0.000000</td>\n",
       "      <td>0.000000</td>\n",
       "      <td>0.000000</td>\n",
       "      <td>0.000000</td>\n",
       "      <td>0.000000</td>\n",
       "      <td>0.000000</td>\n",
       "      <td>0.000000</td>\n",
       "      <td>0.000002</td>\n",
       "      <td>0.000003</td>\n",
       "      <td>0.000000</td>\n",
       "    </tr>\n",
       "    <tr>\n",
       "      <th>4</th>\n",
       "      <td>tka</td>\n",
       "      <td>0.000018</td>\n",
       "      <td>0.000000</td>\n",
       "      <td>0.000000</td>\n",
       "      <td>0.000000</td>\n",
       "      <td>0.000000</td>\n",
       "      <td>0.000138</td>\n",
       "      <td>0.000000</td>\n",
       "      <td>0.000000</td>\n",
       "      <td>0.000000</td>\n",
       "      <td>0.000202</td>\n",
       "      <td>0.000000</td>\n",
       "      <td>0.000000</td>\n",
       "      <td>0.000000</td>\n",
       "      <td>0.000000</td>\n",
       "      <td>0.000003</td>\n",
       "      <td>0.000083</td>\n",
       "    </tr>\n",
       "  </tbody>\n",
       "</table>\n",
       "</div>"
      ],
      "text/plain": [
       "  ngram    adasen  bikolano   cebuano  chavacano   english   ilokano  \\\n",
       "0   gol  0.000002  0.000039  0.000042   0.000009  0.000022  0.000023   \n",
       "1   tig  0.000022  0.000041  0.000326   0.000240  0.000000  0.000014   \n",
       "2   sej  0.000000  0.000000  0.000000   0.000021  0.000000  0.000000   \n",
       "3   ubd  0.000000  0.000000  0.000000   0.000000  0.000000  0.000000   \n",
       "4   tka  0.000018  0.000000  0.000000   0.000000  0.000000  0.000138   \n",
       "\n",
       "    ilonggo  kinaray-a  masbatenyo   paranan  romblomanon   spanish   tagalog  \\\n",
       "0  0.000030   0.000019    0.000021  0.000005     0.000005  0.000055  0.000093   \n",
       "1  0.000175   0.000047    0.000212  0.000054     0.000123  0.000117  0.000040   \n",
       "2  0.000000   0.000000    0.000000  0.000000     0.000000  0.000007  0.000000   \n",
       "3  0.000000   0.000000    0.000000  0.000000     0.000000  0.000000  0.000000   \n",
       "4  0.000000   0.000000    0.000000  0.000202     0.000000  0.000000  0.000000   \n",
       "\n",
       "     tausug     waray      yami  \n",
       "0  0.000000  0.000089  0.000032  \n",
       "1  0.000037  0.000267  0.000000  \n",
       "2  0.000000  0.000000  0.000000  \n",
       "3  0.000002  0.000003  0.000000  \n",
       "4  0.000000  0.000003  0.000083  "
      ]
     },
     "execution_count": 12,
     "metadata": {},
     "output_type": "execute_result"
    }
   ],
   "source": [
    "tf.head()"
   ]
  },
  {
   "cell_type": "markdown",
   "id": "67abea8a",
   "metadata": {},
   "source": [
    "### DF (Document Frequency)"
   ]
  },
  {
   "cell_type": "markdown",
   "id": "b93596b1",
   "metadata": {},
   "source": [
    "###### This is how many documents/languages the N-Gram appears in."
   ]
  },
  {
   "cell_type": "code",
   "execution_count": 13,
   "id": "9074c960",
   "metadata": {},
   "outputs": [],
   "source": [
    "df_numeric = df.drop(columns=[\"ngram\"])\n",
    "df_count = (df_numeric > 0).sum(axis=1)\n",
    "df_full = pd.DataFrame({\"ngram\": df[\"ngram\"], \"df\": df_count})"
   ]
  },
  {
   "cell_type": "code",
   "execution_count": 15,
   "id": "b2e95b80",
   "metadata": {},
   "outputs": [
    {
     "data": {
      "text/html": [
       "<div>\n",
       "<style scoped>\n",
       "    .dataframe tbody tr th:only-of-type {\n",
       "        vertical-align: middle;\n",
       "    }\n",
       "\n",
       "    .dataframe tbody tr th {\n",
       "        vertical-align: top;\n",
       "    }\n",
       "\n",
       "    .dataframe thead th {\n",
       "        text-align: right;\n",
       "    }\n",
       "</style>\n",
       "<table border=\"1\" class=\"dataframe\">\n",
       "  <thead>\n",
       "    <tr style=\"text-align: right;\">\n",
       "      <th></th>\n",
       "      <th>ngram</th>\n",
       "      <th>df</th>\n",
       "    </tr>\n",
       "  </thead>\n",
       "  <tbody>\n",
       "    <tr>\n",
       "      <th>0</th>\n",
       "      <td>gol</td>\n",
       "      <td>15</td>\n",
       "    </tr>\n",
       "    <tr>\n",
       "      <th>1</th>\n",
       "      <td>tig</td>\n",
       "      <td>14</td>\n",
       "    </tr>\n",
       "    <tr>\n",
       "      <th>2</th>\n",
       "      <td>sej</td>\n",
       "      <td>2</td>\n",
       "    </tr>\n",
       "    <tr>\n",
       "      <th>3</th>\n",
       "      <td>ubd</td>\n",
       "      <td>2</td>\n",
       "    </tr>\n",
       "    <tr>\n",
       "      <th>4</th>\n",
       "      <td>tka</td>\n",
       "      <td>5</td>\n",
       "    </tr>\n",
       "  </tbody>\n",
       "</table>\n",
       "</div>"
      ],
      "text/plain": [
       "  ngram  df\n",
       "0   gol  15\n",
       "1   tig  14\n",
       "2   sej   2\n",
       "3   ubd   2\n",
       "4   tka   5"
      ]
     },
     "execution_count": 15,
     "metadata": {},
     "output_type": "execute_result"
    }
   ],
   "source": [
    "df_full.head()"
   ]
  },
  {
   "cell_type": "markdown",
   "id": "30c9aab1",
   "metadata": {},
   "source": [
    "### IDF (Inverse Document Frequency)"
   ]
  },
  {
   "cell_type": "markdown",
   "id": "2b84cb98",
   "metadata": {},
   "source": [
    "###### This gets how unique a document is: **log(N/DF)**, where N = total amount of documents / languages."
   ]
  },
  {
   "cell_type": "code",
   "execution_count": null,
   "id": "56f5807a",
   "metadata": {},
   "outputs": [],
   "source": [
    "N = df_numeric.shape[1]\n",
    "idf = np.log(N / (df_count + 1e-10)) # we add +1e-10 to avoid division by zero, although with how the data is processed, this should never happen\n",
    "idf_full = pd.DataFrame({\"ngram\": df[\"ngram\"], \"idf\": idf})"
   ]
  }
 ],
 "metadata": {
  "kernelspec": {
   "display_name": "Python 3",
   "language": "python",
   "name": "python3"
  },
  "language_info": {
   "codemirror_mode": {
    "name": "ipython",
    "version": 3
   },
   "file_extension": ".py",
   "mimetype": "text/x-python",
   "name": "python",
   "nbconvert_exporter": "python",
   "pygments_lexer": "ipython3",
   "version": "3.11.0"
  }
 },
 "nbformat": 4,
 "nbformat_minor": 5
}
